{
 "cells": [
  {
   "metadata": {},
   "cell_type": "code",
   "outputs": [],
   "execution_count": null,
   "source": [
    "import numpy as np\n",
    "import pandas as pd\n",
    "from keras.models import Sequential, Model\n",
    "from keras.layers import Input, Dense, LSTM, Concatenate\n",
    "from keras.optimizers import Adam\n",
    "from sklearn.ensemble import RandomForestRegressor\n",
    "import xgboost as xgb\n",
    "from statsmodels.tsa.arima.model import ARIMA\n",
    "from statsmodels.tsa.holtwinters import ExponentialSmoothing\n",
    "from statsmodels.tsa.statespace.sarimax import SARIMAX\n",
    "from sklearn.preprocessing import StandardScaler\n",
    "from sklearn.model_selection import train_test_split"
   ],
   "id": "b0dd20bf2b402350"
  },
  {
   "metadata": {},
   "cell_type": "code",
   "outputs": [],
   "execution_count": null,
   "source": [
    "# Example time series data\n",
    "data = pd.read_csv('your_time_series_data.csv')\n",
    "data['Date'] = pd.to_datetime(data['Date'])\n",
    "data.set_index('Date', inplace=True)\n",
    "\n",
    "# Feature engineering and preprocessing\n",
    "def create_features(data):\n",
    "    data['Month'] = data.index.month\n",
    "    data['Quarter'] = data.index.quarter\n",
    "    return data\n",
    "\n",
    "data = create_features(data)\n",
    "\n",
    "# Scaling features\n",
    "scaler = StandardScaler()\n",
    "scaled_features = scaler.fit_transform(data.drop('Target', axis=1))\n",
    "X = scaled_features\n",
    "y = data['Target'].values\n",
    "\n",
    "# Split data into training and test sets\n",
    "X_train, X_test, y_train, y_test = train_test_split(X, y, test_size=0.2, random_state=42)"
   ],
   "id": "23992a24b87265d8"
  },
  {
   "metadata": {},
   "cell_type": "code",
   "outputs": [],
   "execution_count": null,
   "source": [
    "def build_gating_network(input_dim, num_experts):\n",
    "    input_layer = Input(shape=(input_dim,))\n",
    "    x = Dense(64, activation='relu')(input_layer)\n",
    "    output_layer = Dense(num_experts, activation='softmax')(x)\n",
    "    gating_model = Model(inputs=input_layer, outputs=output_layer)\n",
    "    return gating_model"
   ],
   "id": "6133224606b8628e"
  },
  {
   "metadata": {},
   "cell_type": "code",
   "outputs": [],
   "execution_count": null,
   "source": [
    "def build_lstm_model(input_shape):\n",
    "    model = Sequential()\n",
    "    model.add(LSTM(50, activation='relu', input_shape=input_shape))\n",
    "    model.add(Dense(1))\n",
    "    model.compile(optimizer='adam', loss='mse')\n",
    "    return model"
   ],
   "id": "51c8beb9ebc68be9"
  },
  {
   "metadata": {},
   "cell_type": "code",
   "outputs": [],
   "execution_count": null,
   "source": [
    "# Train ARIMA Model (simplified example, usually you need to fine-tune the parameters)\n",
    "arima_model = ARIMA(y_train, order=(5, 1, 0)).fit()\n",
    "\n",
    "# Train Exponential Smoothing Model\n",
    "exp_smoothing_model = ExponentialSmoothing(y_train).fit()\n",
    "\n",
    "# Train Random Forest Regressor\n",
    "rf_model = RandomForestRegressor()\n",
    "rf_model.fit(X_train, y_train)\n",
    "\n",
    "# Train XGBoost Regressor\n",
    "xgb_model = xgb.XGBRegressor()\n",
    "xgb_model.fit(X_train, y_train)\n",
    "\n",
    "# Train SARIMA Model (simplified example)\n",
    "sarima_model = SARIMAX(y_train, order=(1, 1, 1)).fit(disp=False)\n",
    "\n",
    "# Train LSTM Model\n",
    "X_train_reshaped = X_train.reshape((X_train.shape[0], 1, X_train.shape[1]))\n",
    "lstm_model = build_lstm_model((X_train_reshaped.shape[1], X_train_reshaped.shape[2]))\n",
    "lstm_model.fit(X_train_reshaped, y_train, epochs=10, batch_size=32, verbose=1)"
   ],
   "id": "a2d35f07c6ab199e"
  },
  {
   "metadata": {},
   "cell_type": "code",
   "outputs": [],
   "execution_count": null,
   "source": [
    "def get_expert_predictions(X, X_reshaped):\n",
    "    # Predict using each model\n",
    "    arima_pred = arima_model.forecast(steps=len(X))\n",
    "    exp_smoothing_pred = exp_smoothing_model.forecast(steps=len(X))\n",
    "    rf_pred = rf_model.predict(X)\n",
    "    xgb_pred = xgb_model.predict(X)\n",
    "    sarima_pred = sarima_model.forecast(steps=len(X))\n",
    "    lstm_pred = lstm_model.predict(X_reshaped).flatten()\n",
    "\n",
    "    # Stack predictions for input to the gating network\n",
    "    expert_predictions = np.stack((arima_pred, exp_smoothing_pred, rf_pred, xgb_pred, sarima_pred, lstm_pred), axis=1)\n",
    "    return expert_predictions\n",
    "\n",
    "X_train_reshaped = X_train.reshape((X_train.shape[0], 1, X_train.shape[1]))\n",
    "train_expert_preds = get_expert_predictions(X_train, X_train_reshaped)"
   ],
   "id": "7c08daccad81c430"
  },
  {
   "metadata": {},
   "cell_type": "code",
   "outputs": [],
   "execution_count": null,
   "source": [
    "# Build the gating network\n",
    "input_dim = X_train.shape[1]\n",
    "num_experts = 6  # Number of experts\n",
    "gating_network = build_gating_network(input_dim, num_experts)\n",
    "gating_network.compile(optimizer=Adam(learning_rate=0.001), loss='mse')\n",
    "\n",
    "# Train the gating network using expert predictions\n",
    "gating_network.fit(X_train, train_expert_preds, epochs=50, batch_size=32, verbose=1)"
   ],
   "id": "7a60cddbf2fb1d90"
  },
  {
   "metadata": {},
   "cell_type": "code",
   "outputs": [],
   "execution_count": null,
   "source": [
    "# Prepare test data\n",
    "X_test_reshaped = X_test.reshape((X_test.shape[0], 1, X_test.shape[1]))\n",
    "test_expert_preds = get_expert_predictions(X_test, X_test_reshaped)\n",
    "\n",
    "# Predict gating weights for the test set\n",
    "gating_weights = gating_network.predict(X_test)\n",
    "\n",
    "# Calculate the final MoE predictions as a weighted sum of expert predictions\n",
    "moe_predictions = np.sum(gating_weights * test_expert_preds, axis=1)\n",
    "\n",
    "# Evaluate the MoE model\n",
    "mse = np.mean((moe_predictions - y_test) ** 2)\n",
    "print(f'MoE Model MSE: {mse:.4f}')"
   ],
   "id": "1721db9f941f71f2"
  }
 ],
 "metadata": {
  "kernelspec": {
   "display_name": "Python 3",
   "language": "python",
   "name": "python3"
  },
  "language_info": {
   "codemirror_mode": {
    "name": "ipython",
    "version": 2
   },
   "file_extension": ".py",
   "mimetype": "text/x-python",
   "name": "python",
   "nbconvert_exporter": "python",
   "pygments_lexer": "ipython2",
   "version": "2.7.6"
  }
 },
 "nbformat": 4,
 "nbformat_minor": 5
}
